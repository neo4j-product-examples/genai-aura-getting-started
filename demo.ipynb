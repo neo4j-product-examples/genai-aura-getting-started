{
 "cells": [
  {
   "cell_type": "markdown",
   "metadata": {},
   "source": [
    "# Neo4j Aura & GenAI: Getting Started"
   ]
  },
  {
   "cell_type": "markdown",
   "metadata": {},
   "source": [
    "This notebook will walkthrough a quick demo of how to get your GenAI application started with Neo4j Aura and LangChain / LangGraph. \n",
    "\n",
    "We will be using the Movie demo dataset as an example, but your own data may be used as well. You will need to alter the connection information and tools we define.\n",
    "\n",
    "**In order to run this full notebook, you will need an OpenAI API key.**\n",
    "\n",
    "The embeddings in this dataset were created using the OpenAI ada002 embedding model, so although you can use another provider's LLM, you will still need to use OpenAI to perform vector similarity search."
   ]
  },
  {
   "cell_type": "markdown",
   "metadata": {},
   "source": [
    "## Initial Imports"
   ]
  },
  {
   "cell_type": "code",
   "execution_count": 143,
   "metadata": {},
   "outputs": [
    {
     "data": {
      "text/plain": [
       "True"
      ]
     },
     "execution_count": 143,
     "metadata": {},
     "output_type": "execute_result"
    }
   ],
   "source": [
    "import os\n",
    "from typing import Any\n",
    "\n",
    "from langchain_neo4j import Neo4jGraph\n",
    "from langchain_openai import OpenAIEmbeddings, ChatOpenAI\n",
    "from langchain_core.tools import tool\n",
    "from langgraph.prebuilt import create_react_agent\n",
    "\n",
    "from dotenv import load_dotenv\n",
    "\n",
    "load_dotenv()"
   ]
  },
  {
   "cell_type": "markdown",
   "metadata": {},
   "source": [
    "The LangChain Neo4j module provides an easy to use interface for our Neo4j graph database. \n",
    "\n",
    "We can provide the `enhanced_schema=True` argument to get more details about our graph schema.\n",
    "\n",
    "Our demo Aura instance is a graph of Movie data with embeddings on `Movie` nodes under the property `plotEmbedding`.\n",
    "\n",
    "The embeddings are created with the OpenAI ada002 embedding model."
   ]
  },
  {
   "cell_type": "markdown",
   "metadata": {},
   "source": [
    "Please provide your database credentials in the `.env` file if you'd like to use your own Neo4j database. Otherwise it will default to the Movies demo database."
   ]
  },
  {
   "cell_type": "code",
   "execution_count": null,
   "metadata": {},
   "outputs": [],
   "source": [
    "graph = Neo4jGraph(\n",
    "    url=os.getenv(\"Neo4j_URI\", \"neo4j+s://demo.neo4jlabs.com\"),\n",
    "    username=os.getenv(\"Neo4j_USER\", \"recommendations\"),\n",
    "    password=os.getenv(\"Neo4j_PASSWORD\", \"recommendations\"),\n",
    "    database=os.getenv(\"Neo4j_DATABASE\", \"recommendations\"),\n",
    "    enhanced_schema=True,\n",
    ")"
   ]
  },
  {
   "cell_type": "markdown",
   "metadata": {},
   "source": [
    "We can easily view our graph schema.\n",
    "\n",
    "Note that the `plotEmbedding` property is not listed here since we typically would only use it for vector similarity search."
   ]
  },
  {
   "cell_type": "code",
   "execution_count": 14,
   "metadata": {},
   "outputs": [
    {
     "name": "stdout",
     "output_type": "stream",
     "text": [
      "Node properties:\n",
      "- **Movie**\n",
      "  - `url`: STRING Example: \"https://themoviedb.org/movie/862\"\n",
      "  - `runtime`: INTEGER Min: 2, Max: 910\n",
      "  - `revenue`: INTEGER Min: 1, Max: 2787965087\n",
      "  - `budget`: INTEGER Min: 1, Max: 380000000\n",
      "  - `imdbRating`: FLOAT Min: 1.6, Max: 9.6\n",
      "  - `released`: STRING Example: \"1995-11-22\"\n",
      "  - `countries`: LIST Min Size: 1, Max Size: 16\n",
      "  - `languages`: LIST Min Size: 1, Max Size: 19\n",
      "  - `plot`: STRING Example: \"A cowboy doll is profoundly threatened and jealous\"\n",
      "  - `imdbVotes`: INTEGER Min: 13, Max: 1626900\n",
      "  - `imdbId`: STRING Example: \"0114709\"\n",
      "  - `year`: INTEGER Min: 1902, Max: 2016\n",
      "  - `poster`: STRING Example: \"https://image.tmdb.org/t/p/w440_and_h660_face/uXDf\"\n",
      "  - `movieId`: STRING Example: \"1\"\n",
      "  - `tmdbId`: STRING Example: \"862\"\n",
      "  - `title`: STRING Example: \"Toy Story\"\n",
      "- **Genre**\n",
      "  - `name`: STRING Example: \"Adventure\"\n",
      "- **User**\n",
      "  - `userId`: STRING Example: \"1\"\n",
      "  - `name`: STRING Example: \"Omar Huffman\"\n",
      "- **Actor**\n",
      "  - `url`: STRING Example: \"https://themoviedb.org/person/1271225\"\n",
      "  - `died`: DATE Example: \"1954-01-01\"\n",
      "  - `born`: DATE Example: \"1877-02-04\"\n",
      "  - `imdbId`: STRING Example: \"2083046\"\n",
      "  - `name`: STRING Example: \"François Lallement\"\n",
      "  - `tmdbId`: STRING Example: \"1271225\"\n",
      "  - `bornIn`: STRING Example: \"France\"\n",
      "  - `bio`: STRING Example: \"​From Wikipedia, the free encyclopedia  Lillian Di\"\n",
      "  - `poster`: STRING Example: \"https://image.tmdb.org/t/p/w440_and_h660_face/6DCW\"\n",
      "- **Director**\n",
      "  - `url`: STRING Example: \"https://themoviedb.org/person/88953\"\n",
      "  - `bornIn`: STRING Example: \"Burchard, Nebraska, USA\"\n",
      "  - `born`: DATE Min: 1861-12-08, Max: 2018-05-01\n",
      "  - `died`: DATE Min: 1930-08-26, Max: 2976-09-29\n",
      "  - `tmdbId`: STRING Example: \"88953\"\n",
      "  - `imdbId`: STRING Example: \"0516001\"\n",
      "  - `name`: STRING Example: \"Harold Lloyd\"\n",
      "  - `poster`: STRING Example: \"https://image.tmdb.org/t/p/w440_and_h660_face/er4Z\"\n",
      "  - `bio`: STRING Example: \"Harold Lloyd has been called the cinema’s “first m\"\n",
      "- **Person**\n",
      "  - `url`: STRING Example: \"https://themoviedb.org/person/1271225\"\n",
      "  - `bornIn`: STRING Example: \"France\"\n",
      "  - `bio`: STRING Example: \"​From Wikipedia, the free encyclopedia  Lillian Di\"\n",
      "  - `died`: DATE Example: \"1954-01-01\"\n",
      "  - `born`: DATE Example: \"1877-02-04\"\n",
      "  - `imdbId`: STRING Example: \"2083046\"\n",
      "  - `name`: STRING Example: \"François Lallement\"\n",
      "  - `poster`: STRING Example: \"https://image.tmdb.org/t/p/w440_and_h660_face/6DCW\"\n",
      "  - `tmdbId`: STRING Example: \"1271225\"\n",
      "Relationship properties:\n",
      "- **RATED**\n",
      "  - `rating`: FLOAT Example: \"2.0\"\n",
      "  - `timestamp`: INTEGER Example: \"1260759108\"\n",
      "- **ACTED_IN**\n",
      "  - `role`: STRING Example: \"Officer of the Marines (uncredited)\"\n",
      "- **DIRECTED**\n",
      "  - `role`: STRING \n",
      "The relationships:\n",
      "(:Movie)-[:IN_GENRE]->(:Genre)\n",
      "(:User)-[:RATED]->(:Movie)\n",
      "(:Actor)-[:ACTED_IN]->(:Movie)\n",
      "(:Actor)-[:DIRECTED]->(:Movie)\n",
      "(:Director)-[:DIRECTED]->(:Movie)\n",
      "(:Director)-[:ACTED_IN]->(:Movie)\n",
      "(:Person)-[:ACTED_IN]->(:Movie)\n",
      "(:Person)-[:DIRECTED]->(:Movie)\n"
     ]
    }
   ],
   "source": [
    "print(graph.get_schema)"
   ]
  },
  {
   "cell_type": "markdown",
   "metadata": {},
   "source": [
    "## Explore Our Data"
   ]
  },
  {
   "cell_type": "markdown",
   "metadata": {},
   "source": [
    "Let's explore our data with some Cypher queries."
   ]
  },
  {
   "cell_type": "code",
   "execution_count": 24,
   "metadata": {},
   "outputs": [],
   "source": [
    "top_rated_movies = graph.query(\"\"\"\n",
    "MATCH (m:Movie)\n",
    "WHERE m.imdbRating > 8.5\n",
    "RETURN m.title as title, m.imdbRating as rating\n",
    "ORDER BY rating DESC\n",
    "LIMIT 5\n",
    "\"\"\")"
   ]
  },
  {
   "cell_type": "code",
   "execution_count": 26,
   "metadata": {},
   "outputs": [
    {
     "name": "stdout",
     "output_type": "stream",
     "text": [
      "Band of Brothers --> 9.6\n",
      "Civil War, The --> 9.5\n",
      "Cosmos --> 9.3\n",
      "Shawshank Redemption, The --> 9.3\n",
      "Decalogue, The (Dekalog) --> 9.2\n"
     ]
    },
    {
     "data": {
      "text/plain": [
       "[None, None, None, None, None]"
      ]
     },
     "execution_count": 26,
     "metadata": {},
     "output_type": "execute_result"
    }
   ],
   "source": [
    "[print(f\"{x['title']} --> {x['rating']}\") for x in top_rated_movies]"
   ]
  },
  {
   "cell_type": "code",
   "execution_count": 28,
   "metadata": {},
   "outputs": [],
   "source": [
    "most_active_users = graph.query(\"\"\"\n",
    "MATCH (u:User)-[:RATED]->(m:Movie)\n",
    "RETURN u.name as name, count(m) as numRatings\n",
    "ORDER BY numRatings DESC\n",
    "LIMIT 5\n",
    "\"\"\")"
   ]
  },
  {
   "cell_type": "code",
   "execution_count": 29,
   "metadata": {},
   "outputs": [
    {
     "name": "stdout",
     "output_type": "stream",
     "text": [
      "Darlene Garcia --> 2391\n",
      "Robert Brooks --> 1868\n",
      "Karen Avila --> 1735\n",
      "Angela Garcia --> 1700\n",
      "Angela Robertson --> 1610\n"
     ]
    },
    {
     "data": {
      "text/plain": [
       "[None, None, None, None, None]"
      ]
     },
     "execution_count": 29,
     "metadata": {},
     "output_type": "execute_result"
    }
   ],
   "source": [
    "[print(f\"{x['name']} --> {x['numRatings']}\") for x in most_active_users]"
   ]
  },
  {
   "cell_type": "code",
   "execution_count": 57,
   "metadata": {},
   "outputs": [],
   "source": [
    "user_favorite_genres = graph.query(\"\"\"\n",
    "MATCH (u:User)-[:RATED]->(m:Movie)-[:IN_GENRE]->(g:Genre)\n",
    "with u, g.name as genre, count(*) as cnt\n",
    "order by u, cnt DESC\n",
    "WITH u, COLLECT({genre: genre, ratings: cnt})[0] AS favorite\n",
    "RETURN u.name AS name, \n",
    "    favorite.genre AS favoriteGenre, \n",
    "    favorite.ratings AS ratingCount\n",
    "ORDER BY ratingCount DESC\n",
    "LIMIT 10\n",
    "\"\"\")"
   ]
  },
  {
   "cell_type": "code",
   "execution_count": 59,
   "metadata": {},
   "outputs": [
    {
     "name": "stdout",
     "output_type": "stream",
     "text": [
      "Darlene Garcia --> Drama: 1478\n",
      "Karen Avila --> Comedy: 892\n",
      "Larry Boyd --> Drama: 821\n",
      "Robert Brooks --> Drama: 785\n",
      "Angela Garcia --> Drama: 770\n",
      "Rita Owens --> Drama: 618\n",
      "Angela Robertson --> Drama: 615\n",
      "Aaron Castro --> Drama: 565\n",
      "Crystal Spencer --> Drama: 536\n",
      "Marissa Choi --> Drama: 522\n"
     ]
    },
    {
     "data": {
      "text/plain": [
       "[None, None, None, None, None, None, None, None, None, None]"
      ]
     },
     "execution_count": 59,
     "metadata": {},
     "output_type": "execute_result"
    }
   ],
   "source": [
    "[print(f\"{x['name']} --> {x['favoriteGenre']}: {x['ratingCount']}\") for x in user_favorite_genres]"
   ]
  },
  {
   "cell_type": "markdown",
   "metadata": {},
   "source": [
    "Now let's take advantage of the vector index on our `Movie` nodes. \n",
    "\n",
    "To do this we will need an embedding model to embed our question. We will then use this embedding to find the most similar plot embeddings in our data."
   ]
  },
  {
   "cell_type": "markdown",
   "metadata": {},
   "source": [
    "### Using The Vector Index"
   ]
  },
  {
   "cell_type": "code",
   "execution_count": 63,
   "metadata": {},
   "outputs": [],
   "source": [
    "embedder = OpenAIEmbeddings(model=\"text-embedding-ada-002\")"
   ]
  },
  {
   "cell_type": "markdown",
   "metadata": {},
   "source": [
    "Here we will simply use the vector index to perform a similarity search."
   ]
  },
  {
   "cell_type": "code",
   "execution_count": 64,
   "metadata": {},
   "outputs": [],
   "source": [
    "question = \"What are the best movies about space?\"\n",
    "question_embedding = embedder.embed_query(question)"
   ]
  },
  {
   "cell_type": "code",
   "execution_count": 74,
   "metadata": {},
   "outputs": [],
   "source": [
    "movies_about_space = graph.query(\"\"\"\n",
    "CALL db.index.vector.queryNodes('moviePlotsEmbedding', 10, $question_embedding)\n",
    "YIELD node\n",
    "RETURN node.title as title, node.imdbRating as rating\n",
    "ORDER BY rating DESC\n",
    "LIMIT 5\n",
    "\"\"\", params={\"question_embedding\": question_embedding})"
   ]
  },
  {
   "cell_type": "code",
   "execution_count": 77,
   "metadata": {},
   "outputs": [
    {
     "name": "stdout",
     "output_type": "stream",
     "text": [
      "From the Earth to the Moon --> 8.9\n",
      "Interstellar --> 8.6\n",
      "2001: A Space Odyssey --> 8.3\n",
      "For All Mankind --> 8.2\n",
      "Forbidden Planet --> 7.7\n"
     ]
    },
    {
     "data": {
      "text/plain": [
       "[None, None, None, None, None]"
      ]
     },
     "execution_count": 77,
     "metadata": {},
     "output_type": "execute_result"
    }
   ],
   "source": [
    "[print(f\"{x['title']} --> {x['rating']}\") for x in movies_about_space]"
   ]
  },
  {
   "cell_type": "markdown",
   "metadata": {},
   "source": [
    "Here we will use the vector index and some Cypher to process the similarity search results. \n",
    "\n",
    "Specifically we want to find the actors that are in the found Western films."
   ]
  },
  {
   "cell_type": "code",
   "execution_count": 79,
   "metadata": {},
   "outputs": [],
   "source": [
    "question = \"What are some famous actors in cowboy western films?\"\n",
    "question_embedding = embedder.embed_query(question)"
   ]
  },
  {
   "cell_type": "code",
   "execution_count": 83,
   "metadata": {},
   "outputs": [],
   "source": [
    "famous_actors_in_cowboy_western_films = graph.query(\"\"\"\n",
    "CALL db.index.vector.queryNodes('moviePlotsEmbedding', 10, $question_embedding)\n",
    "YIELD node as movie\n",
    "MATCH (actor)-[:ACTED_IN]->(movie:Movie)\n",
    "RETURN  actor.name as actor, \n",
    "        movie.title as title, \n",
    "        movie.imdbRating as rating\n",
    "ORDER BY rating DESC\n",
    "LIMIT 10\n",
    "\"\"\", params={\"question_embedding\": question_embedding})"
   ]
  },
  {
   "cell_type": "code",
   "execution_count": 84,
   "metadata": {},
   "outputs": [
    {
     "name": "stdout",
     "output_type": "stream",
     "text": [
      "Clint Eastwood --> Unforgiven --> 8.3\n",
      "Gene Hackman --> Unforgiven --> 8.3\n",
      "Morgan Freeman --> Unforgiven --> 8.3\n",
      "Richard Harris --> Unforgiven --> 8.3\n",
      "William Holden --> Wild Bunch, The --> 8.0\n",
      "Edmond O'Brien --> Wild Bunch, The --> 8.0\n",
      "Ernest Borgnine --> Wild Bunch, The --> 8.0\n",
      "Robert Ryan --> Wild Bunch, The --> 8.0\n",
      "Henry Fonda --> My Darling Clementine --> 7.8\n",
      "Cathy Downs --> My Darling Clementine --> 7.8\n"
     ]
    },
    {
     "data": {
      "text/plain": [
       "[None, None, None, None, None, None, None, None, None, None]"
      ]
     },
     "execution_count": 84,
     "metadata": {},
     "output_type": "execute_result"
    }
   ],
   "source": [
    "[print(f\"{x['actor']} --> {x['title']} --> {x['rating']}\") for x in famous_actors_in_cowboy_western_films]"
   ]
  },
  {
   "cell_type": "markdown",
   "metadata": {},
   "source": [
    "## Building An Agent"
   ]
  },
  {
   "cell_type": "markdown",
   "metadata": {},
   "source": [
    "Now that we're familiar with our data, let's build a Movie Expert agent that is grounded in our Neo4j graph. \n",
    "\n",
    "We'll do this using some of LangChain's agent building functions and OpenAI."
   ]
  },
  {
   "cell_type": "markdown",
   "metadata": {},
   "source": [
    "First we need to define our LLM."
   ]
  },
  {
   "cell_type": "code",
   "execution_count": 86,
   "metadata": {},
   "outputs": [],
   "source": [
    "llm = ChatOpenAI(model=\"gpt-4o-mini\", temperature=0)"
   ]
  },
  {
   "cell_type": "markdown",
   "metadata": {},
   "source": [
    "### Tools"
   ]
  },
  {
   "cell_type": "markdown",
   "metadata": {},
   "source": [
    "Now let's define some tools that our agent can use to answer questions.\n",
    "\n",
    "We can use the `@tool` decorator provided by LangChain to easily identify tools our agent can use. \n",
    "\n",
    "It's important to provide detailed descriptions of what the tool does and what it will return."
   ]
  },
  {
   "cell_type": "code",
   "execution_count": 135,
   "metadata": {},
   "outputs": [],
   "source": [
    "@tool\n",
    "def get_movies_by_plot_similarity(question: str, k: int = 10) -> list[dict[str, Any]]:\n",
    "    \"\"\"\n",
    "    Retrieve information about movies based on vector similarity search. This will retrieve similar movies based on the plot description.\n",
    "\n",
    "    Parameters\n",
    "    ----------\n",
    "    question: str\n",
    "        The question to answer.\n",
    "    k: int\n",
    "        The number of movies to retrieve.\n",
    "\n",
    "    Returns\n",
    "    -------\n",
    "    list[dict[str, Any]]\n",
    "        A list of dictionaries containing the movie information.\n",
    "        Each dictionary contains the movile title, actors that starred in the movie, the movie's IMDB rating, and the movie's plot.\n",
    "    \"\"\"\n",
    "\n",
    "    question_embedding = embedder.embed_query(question)\n",
    "    query = \"\"\"\n",
    "    CALL db.index.vector.queryNodes('moviePlotsEmbedding', $k, $question_embedding)\n",
    "    YIELD node as movie\n",
    "    MATCH (actor)-[:ACTED_IN]->(movie:Movie)\n",
    "    RETURN  COLLECT(actor.name) as actors, \n",
    "            movie.title as title, \n",
    "            movie.imdbRating as rating,\n",
    "            movie.plot as plot\n",
    "    ORDER BY rating DESC\n",
    "    LIMIT $k\n",
    "    \"\"\"\n",
    "    params={\"question_embedding\": question_embedding, \"k\": k}\n",
    "    return graph.query(query, params=params)"
   ]
  },
  {
   "cell_type": "code",
   "execution_count": 123,
   "metadata": {},
   "outputs": [],
   "source": [
    "@tool\n",
    "def get_user_favorite_genres_by_name(user_name: str) -> list[dict[str, Any]]:\n",
    "    \"\"\"\n",
    "    Retrieve information about the user's favorite genres. This will retrieve the user's favorite genres and their average rating.\n",
    "    \n",
    "    Parameters\n",
    "    ----------\n",
    "    user_name: str\n",
    "        The name of the user to retrieve the favorite genres for.\n",
    "\n",
    "    Returns\n",
    "    -------\n",
    "    list[dict[str, Any]]\n",
    "        A list of dictionaries containing the user's favorite genres.\n",
    "        Each dictionary contains the genre name and the average rating for that genre.\n",
    "    \"\"\"\n",
    "    query = \"\"\"\n",
    "MATCH (u:User {name: $user_name})-[:RATED]->(m:Movie)-[:IN_GENRE]->(g:Genre)\n",
    "WHERE m.imdbRating IS NOT NULL\n",
    "WITH g.name as genre, AVG(m.imdbRating) as avg_rating\n",
    "ORDER BY avg_rating DESC\n",
    "RETURN genre, ROUND(avg_rating, 2) as average_rating\n",
    "LIMIT 10\n",
    "    \"\"\"\n",
    "    params={\"user_name\": user_name}\n",
    "    return graph.query(query, params=params)"
   ]
  },
  {
   "cell_type": "markdown",
   "metadata": {},
   "source": [
    "Let's test out our tools."
   ]
  },
  {
   "cell_type": "code",
   "execution_count": 136,
   "metadata": {},
   "outputs": [
    {
     "name": "stdout",
     "output_type": "stream",
     "text": [
      "Results returned: 10\n",
      "First result    : {'actors': ['David Andrews', 'Lane Smith', 'Tom Hanks', 'Nick Searcy'], 'title': 'From the Earth to the Moon', 'rating': 8.9, 'plot': 'Dramatized portrayal of the Apollo manned space program.'}\n"
     ]
    }
   ],
   "source": [
    "res = get_movies_by_plot_similarity(\"What are the best movies about space?\")\n",
    "print(\"Results returned:\", len(res))\n",
    "print(\"First result    :\", res[0])"
   ]
  },
  {
   "cell_type": "code",
   "execution_count": 124,
   "metadata": {},
   "outputs": [
    {
     "data": {
      "text/plain": [
       "[{'genre': 'Film-Noir', 'average_rating': 7.93},\n",
       " {'genre': 'War', 'average_rating': 7.8},\n",
       " {'genre': 'Documentary', 'average_rating': 7.76},\n",
       " {'genre': 'Mystery', 'average_rating': 7.62},\n",
       " {'genre': 'IMAX', 'average_rating': 7.61},\n",
       " {'genre': 'Drama', 'average_rating': 7.54},\n",
       " {'genre': 'Crime', 'average_rating': 7.54},\n",
       " {'genre': 'Animation', 'average_rating': 7.44},\n",
       " {'genre': 'Musical', 'average_rating': 7.39},\n",
       " {'genre': 'Horror', 'average_rating': 7.37}]"
      ]
     },
     "execution_count": 124,
     "metadata": {},
     "output_type": "execute_result"
    }
   ],
   "source": [
    "get_user_favorite_genres_by_name(\"Rita Owens\")"
   ]
  },
  {
   "cell_type": "markdown",
   "metadata": {},
   "source": [
    "### Agent"
   ]
  },
  {
   "cell_type": "markdown",
   "metadata": {},
   "source": [
    "Now that we know our tools work, let's create a simple ReAct agent. \n",
    "\n",
    "LangGraph provides a function that creates this for us. We just need to provide the LLM and tools it can use.\n",
    "\n",
    "For more information on this ReAct agent please see the LangGraph documentation: https://langchain-ai.github.io/langgraph/how-tos/create-react-agent"
   ]
  },
  {
   "cell_type": "code",
   "execution_count": 133,
   "metadata": {},
   "outputs": [],
   "source": [
    "agent = create_react_agent(\n",
    "    model=llm,\n",
    "    tools=[get_movies_by_plot_similarity, get_user_favorite_genres_by_name],\n",
    ")"
   ]
  },
  {
   "cell_type": "markdown",
   "metadata": {},
   "source": [
    "This is the architecture of our agent. It has two nodes - Reasoning (agent) and Action (tools)\n",
    "\n",
    "The agent will cycle between these two nodes until it has all the information it needs to answer the question."
   ]
  },
  {
   "cell_type": "code",
   "execution_count": 134,
   "metadata": {},
   "outputs": [
    {
     "data": {
      "image/png": "[encoded data removed]",
      "text/plain": [
       "<IPython.core.display.Image object>"
      ]
     },
     "metadata": {},
     "output_type": "display_data"
    }
   ],
   "source": [
    "from IPython.display import Image, display\n",
    "\n",
    "display(Image(agent.get_graph().draw_mermaid_png()))"
   ]
  },
  {
   "cell_type": "markdown",
   "metadata": {},
   "source": [
    "## Asking Questions"
   ]
  },
  {
   "cell_type": "markdown",
   "metadata": {},
   "source": [
    "We can now ask our agent some questions about movies. Our tools define the scope of answers that this agent can answer. \n",
    "\n",
    "If we'd like to expand the scope, we can either provide more tools that address specific use cases or we can provide a generic vector search tool / Cypher generation tool."
   ]
  },
  {
   "cell_type": "code",
   "execution_count": 144,
   "metadata": {},
   "outputs": [],
   "source": [
    "def _print_stream(stream):\n",
    "    \"\"\"A helper function to print the stream of messages from the agent.\"\"\"\n",
    "    for s in stream:\n",
    "        message = s[\"messages\"][-1]\n",
    "        if isinstance(message, tuple):\n",
    "            print(message)\n",
    "        else:\n",
    "            message.pretty_print()\n",
    "\n",
    "def ask(question: str):\n",
    "    \"\"\"A helper function to ask the agent a question.\"\"\"\n",
    "    inputs = {\"messages\": [(\"user\", question)]}\n",
    "    _print_stream(agent.stream(inputs, stream_mode=\"values\"))"
   ]
  },
  {
   "cell_type": "code",
   "execution_count": 140,
   "metadata": {},
   "outputs": [
    {
     "name": "stdout",
     "output_type": "stream",
     "text": [
      "================================\u001b[1m Human Message \u001b[0m=================================\n",
      "\n",
      "What are the best movies about space?\n",
      "==================================\u001b[1m Ai Message \u001b[0m==================================\n",
      "Tool Calls:\n",
      "  get_movies_by_plot_similarity (call_OxF1btRQM1i3gFQwGbcuAtmK)\n",
      " Call ID: call_OxF1btRQM1i3gFQwGbcuAtmK\n",
      "  Args:\n",
      "    question: movies about space\n",
      "    k: 10\n",
      "=================================\u001b[1m Tool Message \u001b[0m=================================\n",
      "Name: get_movies_by_plot_similarity\n",
      "\n",
      "[{\"actors\": [\"David Andrews\", \"Lane Smith\", \"Tom Hanks\", \"Nick Searcy\"], \"title\": \"From the Earth to the Moon\", \"rating\": 8.9, \"plot\": \"Dramatized portrayal of the Apollo manned space program.\"}, {\"actors\": [\"Ellen Burstyn\", \"John Lithgow\", \"Mackenzie Foy\", \"Matthew McConaughey\"], \"title\": \"Interstellar\", \"rating\": 8.6, \"plot\": \"A team of explorers travel through a wormhole in space in an attempt to ensure humanity's survival.\"}, {\"actors\": [\"Michael Collins\", \"Russell Schweickart\", \"Eugene Cernan\", \"Jim Lovell\"], \"title\": \"For All Mankind\", \"rating\": 8.2, \"plot\": \"This movie documents the Apollo missions perhaps the most definitively of any movie under two hours. Al Reinert watched all the footage shot during the missions--over 6,000,000 feet of it, ...\"}, {\"actors\": [\"Leslie Nielsen\", \"Warren Stevens\", \"Walter Pidgeon\", \"Anne Francis\"], \"title\": \"Forbidden Planet\", \"rating\": 7.7, \"plot\": \"A starship crew goes to investigate the silence of a planet's colony only to find two survivors and a deadly secret that one of them has.\"}, {\"actors\": [\"Michael Hutchence\", \"Saskia Post\", \"Nique Needles\", \"Deanna Bond\"], \"title\": \"Dogs in Space\", \"rating\": 6.6, \"plot\": \"The film is set in a house occupied by a collection of social misfits. The main storyline is that of a strange musician's relationship with a girl, their drug use and his band. These events...\"}, {\"actors\": [\"Donald Sutherland\", \"James Garner\", \"Tommy Lee Jones\", \"Clint Eastwood\"], \"title\": \"Space Cowboys\", \"rating\": 6.4, \"plot\": \"When a retired engineer is called upon to rescue a failing satellite, he insists that his equally old teammates accompany him into space.\"}, {\"actors\": [\"Richard Kiel\", \"Michael Lonsdale\", \"Lois Chiles\", \"Roger Moore\"], \"title\": \"Moonraker\", \"rating\": 6.3, \"plot\": \"James Bond investigates the mid-air theft of a space shuttle and discovers a plot to commit global genocide.\"}, {\"actors\": [\"Carrie-Anne Moss\", \"Val Kilmer\", \"Benjamin Bratt\", \"Tom Sizemore\"], \"title\": \"Red Planet\", \"rating\": 5.7, \"plot\": \"Astronauts, and their robotic dog AMME, search for solutions to save a dying Earth by searching on Mars, only to have the mission go terribly awry.\"}, {\"actors\": [\"Kate Capshaw\", \"Kelly Preston\", \"Lea Thompson\", \"Larry B. Scott\"], \"title\": \"SpaceCamp\", \"rating\": 5.6, \"plot\": \"The young attendees of a space camp find themselves in space for real when their shuttle is accidently launched into orbit.\"}, {\"actors\": [\"Lloyd Bridges\", \"Noah Beery Jr.\", \"Osa Massen\", \"John Emery\"], \"title\": \"Rocketship X-M\", \"rating\": 4.9, \"plot\": \"An astronaut crew of 4 men and one woman on their way to the Moon, are unexpectedly propelled by gravitational forces and end up on Mars instead.\"}]\n",
      "==================================\u001b[1m Ai Message \u001b[0m==================================\n",
      "\n",
      "Here are some of the best movies about space:\n",
      "\n",
      "1. **From the Earth to the Moon**  \n",
      "   - **Rating:** 8.9  \n",
      "   - **Plot:** Dramatized portrayal of the Apollo manned space program.  \n",
      "   - **Actors:** David Andrews, Lane Smith, Tom Hanks, Nick Searcy  \n",
      "\n",
      "2. **Interstellar**  \n",
      "   - **Rating:** 8.6  \n",
      "   - **Plot:** A team of explorers travel through a wormhole in space in an attempt to ensure humanity's survival.  \n",
      "   - **Actors:** Ellen Burstyn, John Lithgow, Mackenzie Foy, Matthew McConaughey  \n",
      "\n",
      "3. **For All Mankind**  \n",
      "   - **Rating:** 8.2  \n",
      "   - **Plot:** This movie documents the Apollo missions perhaps the most definitively of any movie under two hours. Al Reinert watched all the footage shot during the missions--over 6,000,000 feet of it.  \n",
      "   - **Actors:** Michael Collins, Russell Schweickart, Eugene Cernan, Jim Lovell  \n",
      "\n",
      "4. **Forbidden Planet**  \n",
      "   - **Rating:** 7.7  \n",
      "   - **Plot:** A starship crew goes to investigate the silence of a planet's colony only to find two survivors and a deadly secret that one of them has.  \n",
      "   - **Actors:** Leslie Nielsen, Warren Stevens, Walter Pidgeon, Anne Francis  \n",
      "\n",
      "5. **Dogs in Space**  \n",
      "   - **Rating:** 6.6  \n",
      "   - **Plot:** The film is set in a house occupied by a collection of social misfits. The main storyline is that of a strange musician's relationship with a girl, their drug use, and his band.  \n",
      "   - **Actors:** Michael Hutchence, Saskia Post, Nique Needles, Deanna Bond  \n",
      "\n",
      "6. **Space Cowboys**  \n",
      "   - **Rating:** 6.4  \n",
      "   - **Plot:** When a retired engineer is called upon to rescue a failing satellite, he insists that his equally old teammates accompany him into space.  \n",
      "   - **Actors:** Donald Sutherland, James Garner, Tommy Lee Jones, Clint Eastwood  \n",
      "\n",
      "7. **Moonraker**  \n",
      "   - **Rating:** 6.3  \n",
      "   - **Plot:** James Bond investigates the mid-air theft of a space shuttle and discovers a plot to commit global genocide.  \n",
      "   - **Actors:** Richard Kiel, Michael Lonsdale, Lois Chiles, Roger Moore  \n",
      "\n",
      "8. **Red Planet**  \n",
      "   - **Rating:** 5.7  \n",
      "   - **Plot:** Astronauts, and their robotic dog AMME, search for solutions to save a dying Earth by searching on Mars, only to have the mission go terribly awry.  \n",
      "   - **Actors:** Carrie-Anne Moss, Val Kilmer, Benjamin Bratt, Tom Sizemore  \n",
      "\n",
      "9. **SpaceCamp**  \n",
      "   - **Rating:** 5.6  \n",
      "   - **Plot:** The young attendees of a space camp find themselves in space for real when their shuttle is accidentally launched into orbit.  \n",
      "   - **Actors:** Kate Capshaw, Kelly Preston, Lea Thompson, Larry B. Scott  \n",
      "\n",
      "10. **Rocketship X-M**  \n",
      "    - **Rating:** 4.9  \n",
      "    - **Plot:** An astronaut crew of 4 men and one woman on their way to the Moon, are unexpectedly propelled by gravitational forces and end up on Mars instead.  \n",
      "    - **Actors:** Lloyd Bridges, Noah Beery Jr., Osa Massen, John Emery  \n",
      "\n",
      "These films explore various themes related to space exploration, adventure, and the human experience in the cosmos.\n"
     ]
    }
   ],
   "source": [
    "ask(\"What are the best movies about space?\")"
   ]
  },
  {
   "cell_type": "code",
   "execution_count": 141,
   "metadata": {},
   "outputs": [
    {
     "name": "stdout",
     "output_type": "stream",
     "text": [
      "================================\u001b[1m Human Message \u001b[0m=================================\n",
      "\n",
      "What are Rita Owens favorite genres?\n",
      "==================================\u001b[1m Ai Message \u001b[0m==================================\n",
      "Tool Calls:\n",
      "  get_user_favorite_genres_by_name (call_qKziFOensbs8tauP8r8HHF8Q)\n",
      " Call ID: call_qKziFOensbs8tauP8r8HHF8Q\n",
      "  Args:\n",
      "    user_name: Rita Owens\n",
      "=================================\u001b[1m Tool Message \u001b[0m=================================\n",
      "Name: get_user_favorite_genres_by_name\n",
      "\n",
      "[{\"genre\": \"Film-Noir\", \"average_rating\": 7.93}, {\"genre\": \"War\", \"average_rating\": 7.8}, {\"genre\": \"Documentary\", \"average_rating\": 7.76}, {\"genre\": \"Mystery\", \"average_rating\": 7.62}, {\"genre\": \"IMAX\", \"average_rating\": 7.61}, {\"genre\": \"Drama\", \"average_rating\": 7.54}, {\"genre\": \"Crime\", \"average_rating\": 7.54}, {\"genre\": \"Animation\", \"average_rating\": 7.44}, {\"genre\": \"Musical\", \"average_rating\": 7.39}, {\"genre\": \"Horror\", \"average_rating\": 7.37}]\n",
      "==================================\u001b[1m Ai Message \u001b[0m==================================\n",
      "\n",
      "Rita Owens' favorite genres and their average ratings are as follows:\n",
      "\n",
      "1. **Film-Noir** - 7.93\n",
      "2. **War** - 7.8\n",
      "3. **Documentary** - 7.76\n",
      "4. **Mystery** - 7.62\n",
      "5. **IMAX** - 7.61\n",
      "6. **Drama** - 7.54\n",
      "7. **Crime** - 7.54\n",
      "8. **Animation** - 7.44\n",
      "9. **Musical** - 7.39\n",
      "10. **Horror** - 7.37\n"
     ]
    }
   ],
   "source": [
    "ask(\"What are Rita Owens favorite genres?\")"
   ]
  },
  {
   "cell_type": "code",
   "execution_count": null,
   "metadata": {},
   "outputs": [],
   "source": []
  }
 ],
 "metadata": {
  "kernelspec": {
   "display_name": ".venv",
   "language": "python",
   "name": "python3"
  },
  "language_info": {
   "codemirror_mode": {
    "name": "ipython",
    "version": 3
   },
   "file_extension": ".py",
   "mimetype": "text/x-python",
   "name": "python",
   "nbconvert_exporter": "python",
   "pygments_lexer": "ipython3",
   "version": "3.10.11"
  }
 },
 "nbformat": 4,
 "nbformat_minor": 2
}
